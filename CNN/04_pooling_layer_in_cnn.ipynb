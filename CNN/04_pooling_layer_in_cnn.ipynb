{
 "cells": [
  {
   "cell_type": "markdown",
   "metadata": {
    "colab_type": "text",
    "id": "view-in-github"
   },
   "source": [
    "<a href=\"https://colab.research.google.com/github/geonextgis/End-to-End-Deep-Learning/blob/main/02_CNN/04_Pooling_Layer_in_CNN.ipynb\" target=\"_parent\"><img src=\"https://colab.research.google.com/assets/colab-badge.svg\" alt=\"Open In Colab\"/></a>"
   ]
  },
  {
   "cell_type": "markdown",
   "metadata": {
    "id": "4EjIIuBbRSwz"
   },
   "source": [
    "# **Pooling Layer in CNN**"
   ]
  },
  {
   "cell_type": "markdown",
   "metadata": {
    "id": "jagaFOm9UGr-"
   },
   "source": [
    "## **The Problem with Convolution**\n",
    "The convolution operation, while highly effective in capturing spatial hierarchies and features in data, comes with certain challenges. Two notable challenges associated with convolution are **memory issues** and **translation variance**.\n",
    "\n",
    "The convolution operation, while highly effective in capturing spatial hierarchies and features in data, comes with certain challenges. Two notable challenges associated with convolution are memory issues and translation variance.\n",
    "\n",
    "1. **Memory Issues:**\n",
    "   - **High Computational Cost:**\n",
    "     Convolutional operations, especially with large filter sizes and deep networks, can be computationally expensive. The number of parameters and computations increases, leading to higher memory and processing requirements.\n",
    "\n",
    "     <center><img src=\"https://indoml.files.wordpress.com/2018/03/convolution-with-multiple-filters2.png\" width=\"60%\"></center>\n",
    "\n",
    "2. **Translation Variance:**\n",
    "   - **Positional Sensitivity:**\n",
    "     Traditional convolution is sensitive to the absolute position of features in the input. This means that the network may not recognize an object if it appears in a different position within the input.\n",
    "   - **Lack of Invariance:**\n",
    "     Convolutional networks may lack translation invariance, meaning that slight shifts or translations in the input can significantly affect the network's ability to recognize patterns.\n",
    "     \n",
    "     <center><img src=\"https://i.stack.imgur.com/ylhMz.png\" width=\"60%\"></center>"
   ]
  },
  {
   "cell_type": "markdown",
   "metadata": {
    "id": "qieqLcWRULqW"
   },
   "source": [
    "## **What is Pooling?**\n",
    "Pooling, in CNNs, is a down-sampling operation that reduces the spatial dimensions of the input feature maps while retaining essential information. Pooling is typically applied after convolutional layers to progressively reduce the spatial size, decrease the computational load, and capture the most important features.\n",
    "\n",
    "Two common types of pooling operations are used in CNNs:\n",
    "\n",
    "1. **Max Pooling:**\n",
    "   - Max pooling involves selecting the maximum value from a group of neighboring pixels in the input feature map.\n",
    "\n",
    "2. **Average Pooling:**\n",
    "   - Average pooling calculates the average value of a group of neighboring pixels in the input feature map.\n",
    "\n",
    "Key points about pooling:\n",
    "\n",
    "- **Spatial Reduction:**\n",
    "  Pooling reduces the spatial dimensions of the feature map, effectively downsampling the information.\n",
    "\n",
    "- **Translation Invariance:**\n",
    "  Pooling contributes to translation invariance by selecting the most relevant features and reducing sensitivity to small shifts or translations in the input.\n",
    "<br>\n",
    "\n",
    "**Demo:** [Click on this link.](https://deeplizard.com/resource/pavq7noze3)"
   ]
  },
  {
   "cell_type": "markdown",
   "metadata": {
    "id": "ffYrwhDMXfJz"
   },
   "source": [
    "<center><img src=\"https://miro.medium.com/v2/resize:fit:679/1*fXxDBsJ96FKEtMOa9vNgjA.gif\" width=\"60%\"></center>"
   ]
  },
  {
   "cell_type": "markdown",
   "metadata": {
    "id": "u14sjqqEb4FZ"
   },
   "source": [
    "## **Pooling on Volumes**\n",
    "\n",
    "<center><img src=\"https://indoml.files.wordpress.com/2018/03/convolution-with-multiple-filters2.png\" width=\"60%\"></center>"
   ]
  },
  {
   "cell_type": "markdown",
   "metadata": {
    "id": "L8rlTiLVcV6k"
   },
   "source": [
    "## **Implementation of Pooling in Keras**"
   ]
  },
  {
   "cell_type": "markdown",
   "metadata": {
    "id": "jNOu0x-Yce_U"
   },
   "source": [
    "### **Import Required Libraries**"
   ]
  },
  {
   "cell_type": "code",
   "execution_count": 4,
   "metadata": {
    "colab": {
     "base_uri": "https://localhost:8080/"
    },
    "id": "N6P9czPHclyl",
    "outputId": "b2afcc81-8b44-40ce-e85b-eb8ce3ae3e6b"
   },
   "outputs": [
    {
     "name": "stdout",
     "output_type": "stream",
     "text": [
      "2.15.0\n"
     ]
    }
   ],
   "source": [
    "import tensorflow as tf\n",
    "from tensorflow import keras\n",
    "from keras import Sequential\n",
    "from keras.layers import Conv2D, MaxPooling2D, Flatten, Dense\n",
    "from keras.datasets import mnist\n",
    "print(tf.__version__)"
   ]
  },
  {
   "cell_type": "markdown",
   "metadata": {
    "id": "yZBFyQQAdB_P"
   },
   "source": [
    "### **Read the Data**"
   ]
  },
  {
   "cell_type": "code",
   "execution_count": 5,
   "metadata": {
    "colab": {
     "base_uri": "https://localhost:8080/"
    },
    "id": "yNSrQsoNdGeZ",
    "outputId": "64309f2a-c4b1-4a1a-aa29-67656b189757"
   },
   "outputs": [
    {
     "name": "stdout",
     "output_type": "stream",
     "text": [
      "Downloading data from https://storage.googleapis.com/tensorflow/tf-keras-datasets/mnist.npz\n",
      "11490434/11490434 [==============================] - 0s 0us/step\n"
     ]
    }
   ],
   "source": [
    "(X_train, y_train), (X_test, y_test) = mnist.load_data()"
   ]
  },
  {
   "cell_type": "markdown",
   "metadata": {
    "id": "BQoaejfzdXHr"
   },
   "source": [
    "### **Build the Model Architecture with `MaxPooling` Layer**"
   ]
  },
  {
   "cell_type": "code",
   "execution_count": 9,
   "metadata": {
    "id": "Nn_7UddRdjHs"
   },
   "outputs": [],
   "source": [
    "# Build the model architecture with 'MaxPooling' layer\n",
    "model = Sequential()\n",
    "\n",
    "model.add(Conv2D(32, kernel_size=(3, 3), padding=\"same\", activation=\"relu\", input_shape=(28, 28, 1)))\n",
    "model.add(MaxPooling2D(pool_size=(2, 2), strides=2, padding=\"same\"))\n",
    "model.add(Conv2D(32, kernel_size=(3, 3), padding=\"same\", activation=\"relu\"))\n",
    "model.add(MaxPooling2D(pool_size=(2, 2), strides=2, padding=\"same\"))\n",
    "\n",
    "model.add(Flatten())\n",
    "\n",
    "model.add(Dense(128, activation=\"relu\"))\n",
    "model.add(Dense(10, activation=\"softmax\"))"
   ]
  },
  {
   "cell_type": "code",
   "execution_count": 10,
   "metadata": {
    "colab": {
     "base_uri": "https://localhost:8080/"
    },
    "id": "9H3oo9X4e0Qo",
    "outputId": "712dfcb4-af55-4cd6-d116-92b7e17bed51"
   },
   "outputs": [
    {
     "name": "stdout",
     "output_type": "stream",
     "text": [
      "Model: \"sequential_3\"\n",
      "_________________________________________________________________\n",
      " Layer (type)                Output Shape              Param #   \n",
      "=================================================================\n",
      " conv2d_4 (Conv2D)           (None, 28, 28, 32)        320       \n",
      "                                                                 \n",
      " max_pooling2d_3 (MaxPoolin  (None, 14, 14, 32)        0         \n",
      " g2D)                                                            \n",
      "                                                                 \n",
      " conv2d_5 (Conv2D)           (None, 14, 14, 32)        9248      \n",
      "                                                                 \n",
      " max_pooling2d_4 (MaxPoolin  (None, 7, 7, 32)          0         \n",
      " g2D)                                                            \n",
      "                                                                 \n",
      " flatten (Flatten)           (None, 1568)              0         \n",
      "                                                                 \n",
      " dense (Dense)               (None, 128)               200832    \n",
      "                                                                 \n",
      " dense_1 (Dense)             (None, 10)                1290      \n",
      "                                                                 \n",
      "=================================================================\n",
      "Total params: 211690 (826.91 KB)\n",
      "Trainable params: 211690 (826.91 KB)\n",
      "Non-trainable params: 0 (0.00 Byte)\n",
      "_________________________________________________________________\n"
     ]
    }
   ],
   "source": [
    "model.summary()"
   ]
  },
  {
   "cell_type": "markdown",
   "metadata": {
    "id": "eQ0NRkVDfu05"
   },
   "source": [
    "### **Advantages of Pooling**\n",
    "Pooling operations offer several key advantages that contribute to the network's effectiveness in image processing tasks:\n",
    "\n",
    "1. **Spatial Dimension Reduction:**\n",
    "   - Pooling reduces the spatial dimensions of input feature maps, effectively downsampling the information. This spatial reduction is crucial for managing computational load and improving efficiency in subsequent layers.\n",
    "   <center><img src=\"https://production-media.paperswithcode.com/methods/MaxpoolSample2.png\" width=\"50%\"></center>\n",
    "\n",
    "2. **Translation Invariance:**\n",
    "   - Pooling introduces a level of translation invariance by selecting the most relevant features. This means the network becomes less sensitive to small shifts or translations in the input, enhancing its ability to generalize across different positions of objects.\n",
    "   <center><img src=\"https://i.stack.imgur.com/fTrKfl.png\" width=\"50%\"></center>\n",
    "\n",
    "3. **Enhanced Features:**\n",
    "   - Pooling operations contribute to enhancing distinctive features within the input data. By selecting the most significant values from local regions, pooling helps the network focus on crucial patterns and characteristics, facilitating better feature extraction.\n",
    "   <center><img src=\"https://blog.paperspace.com/content/images/2022/07/compare_pooling_edg-1.png\" width=\"50%\"></center>\n",
    "\n",
    "4. **No Need for Training:**\n",
    "    - Pooling is a parameter-free operation, requiring no additional training or learnable weights. This simplicity makes it easy to implement and incorporate into CNN architectures without introducing extra parameters that would need to be adjusted during the training process. The lack of trainable parameters in pooling layers adds to the efficiency and simplicity of the overall network design."
   ]
  },
  {
   "cell_type": "markdown",
   "metadata": {
    "id": "3HtY31R4ix8G"
   },
   "source": [
    "## **Types of Pooling**\n",
    "There are several types of pooling operations used in Convolutional Neural Networks (CNNs), each serving different purposes in feature extraction and spatial dimension reduction. Three common types of pooling are MaxPooling, AveragePooling, and Global Pooling:\n",
    "\n",
    "1. **Max Pooling:**\n",
    "   - **Operation:** Selects the maximum value from a group of neighboring pixels in the input feature map.\n",
    "   - **Purpose:** Emphasizes the most prominent features, contributing to translation invariance and retaining salient information.\n",
    "   - **Example:**\n",
    "     ```\n",
    "     Input:\n",
    "     [[1, 2, 3],\n",
    "      [4, 5, 6],\n",
    "      [7, 8, 9]]\n",
    "\n",
    "     Max Pooling (2x2):\n",
    "     [[5]]\n",
    "     ```\n",
    "\n",
    "2. **Average Pooling:**\n",
    "   - **Operation:** Calculates the average value from a group of neighboring pixels in the input feature map.\n",
    "   - **Purpose:** Smooths the representation, reduces sensitivity to outliers, and provides a form of translation invariance.\n",
    "   - **Example:**\n",
    "     ```\n",
    "     Input:\n",
    "     [[1, 2, 3],\n",
    "      [4, 5, 6],\n",
    "      [7, 8, 9]]\n",
    "\n",
    "     Average Pooling (2x2):\n",
    "     [[3.5]]\n",
    "     ```\n",
    "\n",
    "3. **Global Pooling (Global Average Pooling or Global Max Pooling):**\n",
    "   - **Operation:** Computes a single value (global average or global maximum) for each channel across the entire feature map.\n",
    "   - **Purpose:** Aggregates information globally, reducing the spatial dimensions to a single value per channel. Commonly used as a transition to fully connected layers in classification tasks.\n",
    "   - **Example:**\n",
    "     ```\n",
    "     Input:\n",
    "     [[1, 2, 3],\n",
    "      [4, 5, 6],\n",
    "      [7, 8, 9]]\n",
    "\n",
    "     Global Average Pooling:\n",
    "     [[5]]\n",
    "     ```"
   ]
  },
  {
   "cell_type": "markdown",
   "metadata": {
    "id": "B-O9RSkijQuI"
   },
   "source": [
    "## **Disadvantages of Pooling**\n",
    "While pooling operations offer several advantages in Convolutional Neural Networks (CNNs), they also come with certain disadvantages. Here are some drawbacks associated with pooling:\n",
    "\n",
    "1. **Loss of Spatial Information:**\n",
    "   - Pooling involves down-sampling, leading to a reduction in spatial dimensions. This reduction can result in the loss of fine-grained spatial information, making it challenging to reconstruct the exact spatial arrangement of features.\n",
    "\n",
    "2. **Reduced Sensitivity to Small-Scale Patterns:**\n",
    "   - Max pooling, in particular, focuses on the most significant features within a local region. While this is beneficial for translation invariance, it can lead to reduced sensitivity to small-scale patterns, especially if the maximum values dominate the features.\n",
    "\n",
    "3. **Not Suitable for Image Segmentation:**\n",
    "   - In tasks such as image segmentation, where preserving spatial information is crucial, pooling may not be as suitable. Downsampling through pooling can result in a loss of fine-grained details, making it challenging for the network to precisely delineate object boundaries in segmented images.\n",
    "\n",
    "   <center><img src=\"https://deeplobe.ai/wp-content/uploads/2023/06/Image-Segmentation_-What-Are-the-Most-Interesting-Applications_.png\" width=\"50%\"></center>"
   ]
  }
 ],
 "metadata": {
  "colab": {
   "authorship_tag": "ABX9TyP4hY7zyCCQ4OsUVV9jmCzA",
   "include_colab_link": true,
   "provenance": []
  },
  "kernelspec": {
   "display_name": "Python 3",
   "name": "python3"
  },
  "language_info": {
   "name": "python"
  }
 },
 "nbformat": 4,
 "nbformat_minor": 0
}
