{
  "nbformat": 4,
  "nbformat_minor": 0,
  "metadata": {
    "colab": {
      "provenance": [],
      "authorship_tag": "ABX9TyMuduHdjYm62ATtLaBgIgEH",
      "include_colab_link": true
    },
    "kernelspec": {
      "name": "python3",
      "display_name": "Python 3"
    },
    "language_info": {
      "name": "python"
    }
  },
  "cells": [
    {
      "cell_type": "markdown",
      "metadata": {
        "id": "view-in-github",
        "colab_type": "text"
      },
      "source": [
        "<a href=\"https://colab.research.google.com/github/geonextgis/End-to-End-Deep-Learning/blob/main/02_CNN/01_CNN_Vs_Visual_Cortex.ipynb\" target=\"_parent\"><img src=\"https://colab.research.google.com/assets/colab-badge.svg\" alt=\"Open In Colab\"/></a>"
      ]
    },
    {
      "cell_type": "markdown",
      "source": [
        "# **CNN Vs Visual Cortex**\n",
        "Convolutional Neural Networks (CNNs) draw inspiration from the human visual system, particularly the visual cortex. While CNNs attempt to mimic certain aspects of visual processing in the brain, it's important to note that they are simplified models and do not replicate the full complexity of the biological visual system."
      ],
      "metadata": {
        "id": "0AM4VqU4hr6C"
      }
    },
    {
      "cell_type": "markdown",
      "source": [
        "## **Human Visual Cortex**\n",
        "\n",
        "<img src=\"https://www.ophthalmologytraining.com/images/Stills/Visual%20Cortex.jpg\" width=\"50%\">"
      ],
      "metadata": {
        "id": "BplIjsyYiD61"
      }
    },
    {
      "cell_type": "markdown",
      "source": [
        "## **Hubel and Wiesel Cat Experiment**\n",
        "\n",
        "\n",
        "David Hubel and Torsten Wiesel conducted groundbreaking experiments in the early 1960s that significantly advanced our understanding of the visual system. Their work, which focused on the cat's visual cortex, provided key insights into how neurons respond to visual stimuli and laid the foundation for our understanding of feature detection and processing in the brain."
      ],
      "metadata": {
        "id": "z6u76ZTjksiv"
      }
    },
    {
      "cell_type": "markdown",
      "source": [
        "<img src=\"https://i.ytimg.com/vi/QsikPDDxy4g/sddefault.jpg\" width=\"70%\">"
      ],
      "metadata": {
        "id": "KKmAs3HpmBY-"
      }
    },
    {
      "cell_type": "markdown",
      "source": [
        "<video src=\"https://youtu.be/IOHayh06LJ4?si=5GGhoZbsji4GvD9f\">"
      ],
      "metadata": {
        "id": "BQxIYXP0jXae"
      }
    }
  ]
}