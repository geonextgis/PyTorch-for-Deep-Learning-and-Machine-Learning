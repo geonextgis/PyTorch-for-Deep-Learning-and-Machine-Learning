{
  "nbformat": 4,
  "nbformat_minor": 0,
  "metadata": {
    "colab": {
      "provenance": [],
      "authorship_tag": "ABX9TyN/60pDZ8ilJWuHHh5LQUXK",
      "include_colab_link": true
    },
    "kernelspec": {
      "name": "python3",
      "display_name": "Python 3"
    },
    "language_info": {
      "name": "python"
    }
  },
  "cells": [
    {
      "cell_type": "markdown",
      "metadata": {
        "id": "view-in-github",
        "colab_type": "text"
      },
      "source": [
        "<a href=\"https://colab.research.google.com/github/geonextgis/End-to-End-Deep-Learning/blob/main/02_CNN/00_Introduction_to_CNN.ipynb\" target=\"_parent\"><img src=\"https://colab.research.google.com/assets/colab-badge.svg\" alt=\"Open In Colab\"/></a>"
      ]
    },
    {
      "cell_type": "markdown",
      "source": [
        "# **Introduction to Convolutional Neural Network (CNN)**"
      ],
      "metadata": {
        "id": "fcQvxaMROgKz"
      }
    },
    {
      "cell_type": "markdown",
      "source": [
        "## **What is CNN?**\n",
        "Convolutional neural network, also known as convnet, or CNNs, are a special kind of neural network for processing data that has a known grid-like topology like time series data(1D) or images(2D).\n",
        "\n",
        "The key feature of CNNs is the use of convolutional layers, which apply **convolution operations** to input data. Convolution involves sliding a small **filter** (also called a kernel) over the input data, performing element-wise multiplication and summing the results to produce a feature map. CNNs also typically include **pooling layers** to downsample the spatial dimensions of the data, reducing computational complexity and making the network more robust to variations in input. Additionally, **fully connected layers** are often used at the end of the network to make final predictions based on the extracted features.\n",
        "\n",
        "CNNs have been highly successful in various computer vision tasks, and their architecture is designed to mimic the visual processing that occurs in the human brain. They have played a crucial role in advancing the field of deep learning and have been widely used in applications like image and video recognition, medical image analysis, and more."
      ],
      "metadata": {
        "id": "J5GNPHSQWJnH"
      }
    },
    {
      "cell_type": "markdown",
      "source": [
        "<center><img src=\"https://editor.analyticsvidhya.com/uploads/89175cnn_banner.png\" width=\"90%\"></center>"
      ],
      "metadata": {
        "id": "GnVvbGydWNQ4"
      }
    },
    {
      "cell_type": "markdown",
      "source": [
        "## **History of CNN**\n",
        "Convolutional Neural Networks (CNNs) have evolved over several decades, with key contributions from researchers in the field of computer vision and artificial intelligence. The development of CNNs can be traced back to the 1960s, but they gained significant prominence in the 2010s. Here's a brief overview of their evolution:\n",
        "\n",
        "1. **Hubel and Wiesel's Discoveries (1962):** In the early 1960s, David Hubel and Torsten Wiesel conducted groundbreaking experiments on the visual cortex of cats. They discovered that neurons in the visual cortex have receptive fields that respond to specific features in the visual stimulus, such as edges and corners. This laid the foundation for understanding hierarchical visual processing.\n",
        "<img src=\"https://distillery.com/wp-content/uploads/2017/05/3-1.png\" width=\"50%\">\n",
        "\n",
        "2. **Neocognitron (1980s):** Kunihiko Fukushima proposed the Neocognitron, an artificial neural network architecture inspired by the findings of Hubel and Wiesel. Neocognitron was designed for handwritten character recognition and featured alternating layers of convolutional and subsampling (pooling) layers. It introduced the concept of local receptive fields and shared weights, which are fundamental to modern CNNs.\n",
        "\n",
        "3. **LeNet-5 (1998):** Yann LeCun, along with collaborators, developed LeNet-5, a convolutional neural network for handwritten digit recognition. It consisted of convolutional layers, pooling layers, and fully connected layers. LeNet-5 demonstrated the effectiveness of CNNs in image classification tasks and laid the groundwork for future developments.\n",
        "\n",
        "4. **AlexNet (2012):** AlexNet, developed by Alex Krizhevsky, Ilya Sutskever, and Geoffrey Hinton, marked a significant breakthrough in the use of CNNs. It won the ImageNet Large Scale Visual Recognition Challenge (ILSVRC) in 2012, showcasing the power of deep learning for image classification. AlexNet's success spurred increased interest and research in deep neural networks.\n",
        "\n",
        "5. **VGGNet (2014):** The Visual Geometry Group (VGG) introduced VGGNet, which demonstrated that increasing the depth of CNNs could improve performance. VGGNet had a simple and uniform architecture, with small convolutional filters stacked on top of each other. This idea of deeper networks contributed to subsequent developments.\n",
        "\n",
        "6. **GoogLeNet (Inception) (2014):** Google's Inception model, also known as GoogLeNet, introduced the concept of inception modules, which allowed the network to capture features at multiple scales. This architecture aimed to address the trade-off between depth and computational efficiency.\n",
        "\n",
        "7. **ResNet (2015):** Microsoft Research introduced Residual Networks (ResNet), which employed residual learning to handle the challenges of training very deep networks. The use of residual connections allowed the network to skip certain layers during training, facilitating the training of extremely deep models.\n",
        "\n",
        "These milestones and innovations have collectively shaped the development of CNNs, making them a cornerstone in computer vision and deep learning research. Today, CNNs are widely used in various applications, ranging from image recognition and object detection to medical image analysis and autonomous vehicles."
      ],
      "metadata": {
        "id": "O5uKKy3DY2yJ"
      }
    },
    {
      "cell_type": "markdown",
      "source": [
        "## **Why not use ANN?**\n",
        "Artificial Neural Networks (ANNs), including traditional feedforward neural networks, are a powerful class of models used in various machine learning tasks. However, there are specific reasons why Convolutional Neural Networks (CNNs) are preferred over traditional ANNs for certain types of tasks, particularly in the field of computer vision. Here are some key reasons:\n",
        "\n",
        "1. **High Computational Cost:**\n",
        "   - **Traditional ANNs:** Fully connected layers in traditional artificial neural networks (ANNs) have a large number of parameters, leading to a high computational cost. As the network scales, the number of parameters grows significantly, making training and inference computationally intensive.\n",
        "   - **CNNs:** Convolutional Neural Networks (CNNs) reduce the computational cost by using shared weights and local connectivity in convolutional layers. The use of pooling layers also helps downsample the data, decreasing the overall computational load.\n",
        "\n",
        "2. **Overfitting:**\n",
        "   - **Traditional ANNs:** ANNs, especially with a large number of parameters, are prone to overfitting. Overfitting occurs when the model learns the training data too well, including noise and outliers, and fails to generalize to unseen data.\n",
        "   - **CNNs:** CNNs are designed to mitigate overfitting through techniques like parameter sharing, which reduces the number of parameters, and the use of dropout and regularization. Additionally, pooling layers contribute to a form of implicit regularization by focusing on the most salient features.\n",
        "\n",
        "3. **Loss of Spatial Arrangement of Pixels:**\n",
        "   - **Traditional ANNs:** When using traditional ANNs for tasks like image processing, the spatial arrangement of pixels is often lost. Flattening the input image into a vector discards the spatial relationships between pixels, making it challenging to capture local patterns.\n",
        "   - **CNNs:** CNNs excel in preserving spatial information through convolutional layers that capture local patterns and hierarchies. This is essential for tasks like image recognition, where the spatial arrangement of features is crucial for understanding the content of an image."
      ],
      "metadata": {
        "id": "MKDlOkHdaNx5"
      }
    },
    {
      "cell_type": "markdown",
      "source": [
        "## **CNN Intuition**\n",
        "<center><img src=\"https://velog.velcdn.com/images/ktm1237/post/72d8f187-5a3f-4f03-a92a-636e88a76b4b/image.png\"></center>"
      ],
      "metadata": {
        "id": "W6NQfKHBbpMT"
      }
    },
    {
      "cell_type": "markdown",
      "source": [
        "## **Applications of CNN**\n",
        "Convolutional Neural Networks (CNNs) have found widespread applications across various domains due to their ability to effectively handle grid-like data, particularly in image processing. Here is a brief overview of some key applications of CNNs:"
      ],
      "metadata": {
        "id": "ribqq6jFcnD5"
      }
    },
    {
      "cell_type": "markdown",
      "source": [
        "<img src=\"https://8f430952.rocketcdn.me/wp-content/uploads/2017/09/localizationVsDetection.png\" width=\"80%\">\n",
        "\n",
        "<img src=\"https://miro.medium.com/v2/resize:fit:1200/0*_u3df9Pzp-zSycSe.jpeg\" width=\"80%\">\n",
        "\n",
        "<img src=\"https://encrypted-tbn0.gstatic.com/images?q=tbn:ANd9GcRxUI0uHF1Wo4djceOWd49qT7qSVZcGJHlv2g&usqp=CAU\" width=\"80%\">\n",
        "\n",
        "<img src=\"https://pyimagesearch.com/wp-content/uploads/2019/02/bw_colorization_opencv_robin_williams.jpg\" width=\"80%\">\n",
        "\n",
        "<img src=\"https://encrypted-tbn0.gstatic.com/images?q=tbn:ANd9GcTlBQdYm9f3ax_iWJ3dKeqBd99L8POmT-5dI9zQOzYsVEph7XprE0OsIviSa9guSADw8QM&usqp=CAU\" width=\"80%\">"
      ],
      "metadata": {
        "id": "atTt9ewBdylK"
      }
    }
  ]
}