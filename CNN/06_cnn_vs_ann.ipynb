{
  "nbformat": 4,
  "nbformat_minor": 0,
  "metadata": {
    "colab": {
      "provenance": [],
      "toc_visible": true,
      "authorship_tag": "ABX9TyNyF9nEJxwjUuGLobGvW7/p",
      "include_colab_link": true
    },
    "kernelspec": {
      "name": "python3",
      "display_name": "Python 3"
    },
    "language_info": {
      "name": "python"
    }
  },
  "cells": [
    {
      "cell_type": "markdown",
      "metadata": {
        "id": "view-in-github",
        "colab_type": "text"
      },
      "source": [
        "<a href=\"https://colab.research.google.com/github/geonextgis/End-to-End-Deep-Learning/blob/main/02_CNN/06_CNN_Vs_ANN.ipynb\" target=\"_parent\"><img src=\"https://colab.research.google.com/assets/colab-badge.svg\" alt=\"Open In Colab\"/></a>"
      ]
    },
    {
      "cell_type": "markdown",
      "source": [
        "# **CNN Vs ANN**\n",
        "Convolutional Neural Networks (CNNs) and Artificial Neural Networks (ANNs) are both types of neural networks, but they differ in their architectures, designs, and applications. Here's a brief comparison between CNNs and ANNs:"
      ],
      "metadata": {
        "id": "GQYvZDsWfnqI"
      }
    },
    {
      "cell_type": "markdown",
      "source": [
        "**Working Principle of ANN:** <br>\n",
        "<center><img src=\"https://adatis.co.uk/wp-content/uploads/historic/HughFreestone_clip_image012.jpg\" width=\"70%\"></center>"
      ],
      "metadata": {
        "id": "Zf6BWNhsrQ2f"
      }
    },
    {
      "cell_type": "markdown",
      "source": [
        "**Working Principle of CNN** <br>\n",
        "<center><img src=\"https://miro.medium.com/v2/resize:fit:1400/1*uAeANQIOQPqWZnnuH-VEyw.jpeg\" width=\"70%\"></center>"
      ],
      "metadata": {
        "id": "7qusjgkKr2Ls"
      }
    },
    {
      "cell_type": "markdown",
      "source": [
        "## **Similarities between ANN and CNN**\n",
        "The working principles of Artificial Neural Networks (ANNs) and Convolutional Neural Networks (CNNs) share several fundamental concepts, despite their architectural differences. Here are the key similarities in their working principles:\n",
        "\n",
        "1. **Neurons and Activation Functions:**\n",
        "   - Both ANNs and CNNs are composed of interconnected neurons.\n",
        "   - Neurons in both architectures process weighted inputs, apply activation functions, and produce output signals.\n",
        "   - Activation functions introduce non-linearity, allowing the network to learn complex relationships in the data.\n",
        "\n",
        "2. **Forward Propagation:**\n",
        "   - Both architectures employ forward propagation to process input data and generate predictions.\n",
        "   - During forward propagation, input signals are passed through the network's layers, and weighted sums are computed at each neuron. The output is then obtained through the activation function.\n",
        "\n",
        "3. **Loss Function and Training:**\n",
        "   - Both ANNs and CNNs are trained using a supervised learning approach.\n",
        "   - They use a loss function to measure the difference between predicted and actual outputs. The goal is to minimize this loss during training.\n",
        "\n",
        "4. **Backpropagation:**\n",
        "   - Both architectures use backpropagation as a learning algorithm.\n",
        "   - Backpropagation involves calculating gradients of the loss with respect to the network's parameters and adjusting these parameters to minimize the loss.\n",
        "\n",
        "5. **Optimization Algorithms:**\n",
        "   - Both ANNs and CNNs employ optimization algorithms, such as gradient descent and its variants (e.g., stochastic gradient descent), to update weights and biases during training.\n",
        "   - These algorithms aim to find the optimal set of parameters that minimize the loss function.\n",
        "\n",
        "6. **Batch Processing:**\n",
        "   - Both architectures can process input data in batches during training to improve computational efficiency.\n",
        "   - **Batch processing involves updating weights and biases based on the average gradient calculated over a batch of input samples."
      ],
      "metadata": {
        "id": "YhXWKaF4f_UQ"
      }
    },
    {
      "cell_type": "markdown",
      "source": [
        "### **Quick Quiz**\n",
        "1. **How many learnable parameters are there in a convolutional layer with 50 filters applied to an RGB image, where each filter has a shape of (3, 3, 3)?**\n",
        "\n",
        "    **Ans:**<br>\n",
        "    Total learnable parameters in a single filter = **`(3 * 3 * 3) + 1 = 28`** <br>\n",
        "    where, (3, 3, 3) is the shape of a filter and 1 is for bias.<br>\n",
        "    Total learnable parameters of 50 filters = **`(28 * 50) = 1400`**"
      ],
      "metadata": {
        "id": "QLD-Q6Lut15v"
      }
    },
    {
      "cell_type": "markdown",
      "source": [
        "## **Differences between ANN and CNN**\n",
        "The computational cost of Convolutional Neural Networks (CNNs) and Artificial Neural Networks (ANNs) varies significantly when working with image data. Here are the key differences in terms of computational cost:\n",
        "\n",
        "1. **Parameter Efficiency:**\n",
        "    - Fully connected layers in ANNs have a large number of parameters, especially when working with high-dimensional data like images. The sheer number of parameters increases the computational cost during both training and inference.\n",
        "    - CNNs leverage parameter sharing through convolutional filters, leading to a more parameter-efficient architecture. The use of shared filters significantly reduces the number of parameters compared to ANNs when processing image data.\n",
        "\n",
        "2. **Localized Operations:**\n",
        "     - ANN operates on the entire input space, making it computationally intensive, especially for large images. Lacks the ability to efficiently capture localized patterns.\n",
        "     - CNN Employs localized operations, such as convolution and pooling, which significantly reduce the computational cost. Focuses on specific regions of the input, enhancing efficiency in capturing local patterns.\n",
        "\n",
        "3. **Hierarchical Feature Extraction:**\n",
        "     - Hierarchical feature extraction in ANNs involves fully connected layers, which may struggle to capture spatial hierarchies effectively. Computationally expensive due to the large number of parameters and global connectivity.\n",
        "     - CNNs are designed for hierarchical feature extraction through convolutional layers. Filters capture spatial hierarchies locally, making them computationally efficient in processing image data.\n",
        "\n",
        "4. **Spatial Invariance:**\n",
        "     - ANN lacks inherent spatial invariance, requiring extensive processing to handle variations in object position within an image. Higher computational cost in dealing with spatial transformations.\n",
        "     - CNN incorporates pooling layers to achieve spatial invariance, reducing the computational burden related to position variations. Robustness to translations results in computational efficiency in handling diverse spatial configurations."
      ],
      "metadata": {
        "id": "RmuU0aBowLWp"
      }
    }
  ]
}