{
  "nbformat": 4,
  "nbformat_minor": 0,
  "metadata": {
    "colab": {
      "provenance": [],
      "authorship_tag": "ABX9TyOcCM738aH+tk9Ml/mEVTOh",
      "include_colab_link": true
    },
    "kernelspec": {
      "name": "python3",
      "display_name": "Python 3"
    },
    "language_info": {
      "name": "python"
    }
  },
  "cells": [
    {
      "cell_type": "markdown",
      "metadata": {
        "id": "view-in-github",
        "colab_type": "text"
      },
      "source": [
        "<a href=\"https://colab.research.google.com/github/geonextgis/End-to-End-Deep-Learning/blob/main/02_CNN/05_CNN_Architecture_and_LeNet_5.ipynb\" target=\"_parent\"><img src=\"https://colab.research.google.com/assets/colab-badge.svg\" alt=\"Open In Colab\"/></a>"
      ]
    },
    {
      "cell_type": "markdown",
      "source": [
        "# **CNN Architecture & LeNet-5**"
      ],
      "metadata": {
        "id": "TaIw9nxUpipf"
      }
    },
    {
      "cell_type": "markdown",
      "source": [
        "## **CNN Architecture**\n",
        "<center><img src=\"https://miro.medium.com/v2/resize:fit:1400/1*7_BCJFzekmPXmJQVRdDgwg.png\" width=\"80%\"></center>"
      ],
      "metadata": {
        "id": "tZ5mCvzWpxur"
      }
    },
    {
      "cell_type": "markdown",
      "source": [
        "Convolutional Neural Networks (CNNs) have been highly successful in various computer vision tasks, such as image classification, object detection, and image segmentation. While CNN architectures can vary based on specific requirements and tasks, a typical CNN architecture consists of several key components. Here is a generic overview of a CNN architecture:\n",
        "\n",
        "1. **Input Layer:**\n",
        "   - Accepts the input data, usually in the form of images. The size of the input layer corresponds to the dimensions of the input images.\n",
        "\n",
        "2. **Convolutional Layers:**\n",
        "   - Convolutional layers are the core building blocks of CNNs. They use filters (kernels) to convolve over input feature maps, extracting hierarchical features.\n",
        "   - Activation functions (e.g., ReLU) introduce non-linearity.\n",
        "\n",
        "3. **Pooling Layers:**\n",
        "   - Pooling layers follow convolutional layers and downsample the spatial dimensions of feature maps. Common pooling types include Max Pooling and Average Pooling.\n",
        "   - Pooling contributes to translation invariance and reduces computational complexity.\n",
        "\n",
        "4. **Flatten Layer:**\n",
        "   - Flatten layers transition from convolutional layers to fully connected layers. They reshape the 3D output of the convolutional/pooling layers into a 1D vector.\n",
        "   \n",
        "5. **Fully Connected Layers:**\n",
        "   - Fully connected layers connect every neuron to every neuron in the previous and next layers. These layers capture global patterns and relationships in the data.\n",
        "\n",
        "6. **Output Layer:**\n",
        "   - The output layer produces the final predictions. The number of neurons in this layer corresponds to the number of classes in a classification task.\n",
        "   - Activation functions vary based on the task (e.g., softmax for classification).\n",
        "\n",
        "This architecture is a sequential stack of layers and is commonly implemented using deep learning frameworks such as TensorFlow or PyTorch. Specific CNN architectures like LeNet-5, AlexNet, VGGNet, GoogLeNet (Inception), ResNet, and others have been influential in shaping the field. The choice of architecture depends on factors like the complexity of the task, available data, and computational resources. Researchers often modify and adapt existing architectures or design custom architectures to address specific challenges."
      ],
      "metadata": {
        "id": "u2rawC7YsNca"
      }
    },
    {
      "cell_type": "markdown",
      "source": [
        "## **LeNet-5 Architecture**\n",
        "LeNet-5 is a pioneering convolutional neural network architecture designed for handwritten digit recognition. It was introduced by Yann LeCun, Léon Bottou, Yoshua Bengio, and Patrick Haffner in 1998. LeNet-5 played a crucial role in demonstrating the effectiveness of deep learning in computer vision tasks. <br><br>\n",
        "<center><img src=\"https://cdn.analyticsvidhya.com/wp-content/uploads/2021/03/Screenshot-from-2021-03-18-12-52-17.png\"></center>\n",
        "<br>\n",
        "\n",
        "Below is an overview of the LeNet-5 architecture:\n",
        "\n",
        "1. **Input Layer:**\n",
        "   - Accepts grayscale images of size 32x32 pixels.\n",
        "\n",
        "2. **Convolutional Layer (C1):**\n",
        "   - Convolution with 6 filters of size 5x5.\n",
        "   - Activation function: Sigmoid.\n",
        "   - Output feature maps: 28x28x6.\n",
        "\n",
        "3. **Subsampling Layer (S2):**\n",
        "   - Average pooling over non-overlapping 2x2 regions.\n",
        "   - Output feature maps: 14x14x6.\n",
        "\n",
        "4. **Convolutional Layer (C3):**\n",
        "   - Convolution with 16 filters of size 5x5.\n",
        "   - Activation function: Sigmoid.\n",
        "   - Output feature maps: 10x10x16.\n",
        "\n",
        "5. **Subsampling Layer (S4):**\n",
        "   - Average pooling over non-overlapping 2x2 regions.\n",
        "   - Output feature maps: 5x5x16.\n",
        "\n",
        "6. **Convolutional Layer (C5):**\n",
        "   - Convolution with 120 filters of size 5x5.\n",
        "   - Activation function: Sigmoid.\n",
        "   - Output feature maps: 1x1x120.\n",
        "\n",
        "7. **Fully Connected Layer (F6):**\n",
        "   - Fully connected layer with 84 neurons.\n",
        "   - Activation function: Sigmoid.\n",
        "\n",
        "8. **Output Layer:**\n",
        "   - Fully connected layer with 10 neurons (corresponding to the 10 digits in digit recognition tasks).\n",
        "   - Activation function: Softmax.\n",
        "\n",
        "The architecture incorporates a series of convolutional and subsampling layers, followed by fully connected layers. Sigmoid activation functions were used in the original design, and average pooling was employed in the subsampling layers. LeNet-5 demonstrated the effectiveness of deep learning in pattern recognition tasks and laid the foundation for subsequent developments in convolutional neural networks.\n",
        "\n",
        "It's important to note that while LeNet-5 was groundbreaking at the time, more recent CNN architectures, such as those used in image classification tasks today, often involve deeper networks, different activation functions (e.g., ReLU), and other architectural innovations."
      ],
      "metadata": {
        "id": "Iq7keaaFssmM"
      }
    },
    {
      "cell_type": "markdown",
      "source": [
        "## **Implementation of LeNet-5 Architecture in Keras**"
      ],
      "metadata": {
        "id": "rroGAqo5vqKx"
      }
    },
    {
      "cell_type": "markdown",
      "source": [
        "### **Import Required Libraries**"
      ],
      "metadata": {
        "id": "QKfOBsgIwdgV"
      }
    },
    {
      "cell_type": "code",
      "source": [
        "import tensorflow as tf\n",
        "from tensorflow import keras\n",
        "from keras import Sequential\n",
        "from keras.layers import Conv2D, AveragePooling2D, Flatten, Dense\n",
        "from keras.datasets import mnist\n",
        "print(tf.__version__)"
      ],
      "metadata": {
        "colab": {
          "base_uri": "https://localhost:8080/"
        },
        "id": "HZj4KksAwAfa",
        "outputId": "87794a1d-73b6-4e22-bac4-1b270768aea8"
      },
      "execution_count": 2,
      "outputs": [
        {
          "output_type": "stream",
          "name": "stdout",
          "text": [
            "2.15.0\n"
          ]
        }
      ]
    },
    {
      "cell_type": "markdown",
      "source": [
        "### **Read the Data**"
      ],
      "metadata": {
        "id": "bTl6KfiRwdI2"
      }
    },
    {
      "cell_type": "code",
      "source": [
        "(X_train, y_train), (X_test, y_test) = mnist.load_data()"
      ],
      "metadata": {
        "colab": {
          "base_uri": "https://localhost:8080/"
        },
        "id": "zWQgFT_2wjU1",
        "outputId": "af1b51da-8bc0-48ad-f3dd-e371e280ae97"
      },
      "execution_count": 3,
      "outputs": [
        {
          "output_type": "stream",
          "name": "stdout",
          "text": [
            "Downloading data from https://storage.googleapis.com/tensorflow/tf-keras-datasets/mnist.npz\n",
            "11490434/11490434 [==============================] - 0s 0us/step\n"
          ]
        }
      ]
    },
    {
      "cell_type": "markdown",
      "source": [
        "### **Build the `LeNet-5` Architecture**"
      ],
      "metadata": {
        "id": "IMmKh5DAww_Q"
      }
    },
    {
      "cell_type": "code",
      "source": [
        "# Build the LeNet-5 architecture\n",
        "model = Sequential()\n",
        "\n",
        "model.add(Conv2D(6, kernel_size=(5, 5), padding=\"valid\", activation=\"tanh\", input_shape=(32, 32, 1)))\n",
        "model.add(AveragePooling2D((2, 2), strides=2, padding=\"valid\"))\n",
        "\n",
        "model.add(Conv2D(16, kernel_size=(5, 5), padding=\"valid\", activation=\"tanh\"))\n",
        "model.add(AveragePooling2D((2, 2), strides=2, padding=\"valid\"))\n",
        "\n",
        "model.add(Flatten())\n",
        "\n",
        "model.add(Dense(120, activation=\"tanh\"))\n",
        "model.add(Dense(84, activation=\"tanh\"))\n",
        "model.add(Dense(10, activation=\"softmax\"))"
      ],
      "metadata": {
        "id": "0kOoXdYuw2mw"
      },
      "execution_count": 6,
      "outputs": []
    },
    {
      "cell_type": "code",
      "source": [
        "model.summary()"
      ],
      "metadata": {
        "colab": {
          "base_uri": "https://localhost:8080/"
        },
        "id": "dWT-qUF5yGwT",
        "outputId": "e0d8a006-e373-443a-e412-3883e8cc694c"
      },
      "execution_count": 7,
      "outputs": [
        {
          "output_type": "stream",
          "name": "stdout",
          "text": [
            "Model: \"sequential\"\n",
            "_________________________________________________________________\n",
            " Layer (type)                Output Shape              Param #   \n",
            "=================================================================\n",
            " conv2d (Conv2D)             (None, 28, 28, 6)         156       \n",
            "                                                                 \n",
            " average_pooling2d (Average  (None, 14, 14, 6)         0         \n",
            " Pooling2D)                                                      \n",
            "                                                                 \n",
            " conv2d_1 (Conv2D)           (None, 10, 10, 16)        2416      \n",
            "                                                                 \n",
            " average_pooling2d_1 (Avera  (None, 5, 5, 16)          0         \n",
            " gePooling2D)                                                    \n",
            "                                                                 \n",
            " flatten (Flatten)           (None, 400)               0         \n",
            "                                                                 \n",
            " dense (Dense)               (None, 120)               48120     \n",
            "                                                                 \n",
            " dense_1 (Dense)             (None, 84)                10164     \n",
            "                                                                 \n",
            " dense_2 (Dense)             (None, 10)                850       \n",
            "                                                                 \n",
            "=================================================================\n",
            "Total params: 61706 (241.04 KB)\n",
            "Trainable params: 61706 (241.04 KB)\n",
            "Non-trainable params: 0 (0.00 Byte)\n",
            "_________________________________________________________________\n"
          ]
        }
      ]
    }
  ]
}